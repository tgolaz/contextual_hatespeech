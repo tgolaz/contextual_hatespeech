{
 "cells": [
  {
   "cell_type": "code",
   "execution_count": null,
   "metadata": {},
   "outputs": [],
   "source": []
  },
  {
   "cell_type": "markdown",
   "metadata": {},
   "source": [
    "https://luv-bansal.medium.com/fine-tuning-bert-for-text-classification-in-pytorch-503d97342db2 (code below)\n",
    "\n",
    "\n",
    "https://huggingface.co/transformers/v3.2.0/custom_datasets.html "
   ]
  },
  {
   "cell_type": "code",
   "execution_count": 11,
   "metadata": {},
   "outputs": [],
   "source": [
    "import pandas as pd\n",
    "import numpy as np\n",
    "import transformers\n",
    "import torch\n",
    "import torch.nn as nn\n",
    "from torch.utils.data import Dataset\n",
    "from torch.utils.data import DataLoader\n",
    "import torch.optim as optim\n",
    "import torch.nn.functional as F\n",
    "from torchsummary import summary #what is that, it works ?\n",
    "from tqdm import tqdm\n",
    "from sklearn.model_selection import train_test_split\n"
   ]
  },
  {
   "cell_type": "code",
   "execution_count": 12,
   "metadata": {},
   "outputs": [
    {
     "name": "stdout",
     "output_type": "stream",
     "text": [
      "0       The only thing I got from college is a caffein...\n",
      "1       I love it when professors draw a big question ...\n",
      "2       Remember the hundred emails from companies whe...\n",
      "3       Today my pop-pop told me I was not “forced” to...\n",
      "4       @VolphanCarol @littlewhitty @mysticalmanatee I...\n",
      "                              ...                        \n",
      "3462    The population spike in Chicago in 9 months is...\n",
      "3463    You'd think in the second to last English clas...\n",
      "3464    I’m finally surfacing after a holiday to Scotl...\n",
      "3465    Couldn't be prouder today. Well done to every ...\n",
      "3466    Overheard as my 13 year old games with a frien...\n",
      "Name: tweet, Length: 3467, dtype: object\n",
      "0       1\n",
      "1       1\n",
      "2       1\n",
      "3       1\n",
      "4       1\n",
      "       ..\n",
      "3462    0\n",
      "3463    0\n",
      "3464    0\n",
      "3465    0\n",
      "3466    0\n",
      "Name: sarcastic, Length: 3467, dtype: int64\n"
     ]
    }
   ],
   "source": [
    "#import the dataset and create a trainig and testing and validation set\n",
    "\n",
    "\n",
    "isarcasm_data = pd.read_csv('isarcasm2022.csv')\n",
    "\n",
    "text = isarcasm_data.iloc[: , 1]\n",
    "isitsarcasm = isarcasm_data.iloc[: , 2]\n",
    "\n",
    "print(text)\n",
    "print(isitsarcasm)\n",
    "\n"
   ]
  },
  {
   "cell_type": "code",
   "execution_count": 13,
   "metadata": {},
   "outputs": [],
   "source": [
    "#create the class that represent the dataset\n",
    "\n",
    "class IsarcasmDataset(Dataset):\n",
    "   \n",
    "    def __init__(self, csv_file, root_dir, transform=None, train_size=0.7, test_size=0.15, val_size=0.15):\n",
    "        \"\"\"\n",
    "        Arguments:\n",
    "            csv_file (string): Path to the csv file with annotations.\n",
    "            root_dir (string): Directory with all the images.\n",
    "            transform (callable, optional): Optional transform to be applied\n",
    "                on a sample.\n",
    "        \"\"\"\n",
    "        self.rawisarcasmData = pd.read_csv(csv_file)\n",
    "        self.isarcasmData = self.rawisarcasmData.sample(frac=1).reset_index(drop=True) #randomly shuffle the set\n",
    "        self.root_dir = root_dir\n",
    "        self.transform = transform\n",
    "        \n",
    "        train_data, temp_data = train_test_split(self.isarcasmData, test_size=test_size+val_size, random_state=42)\n",
    "        test_data, val_data = train_test_split(temp_data, test_size=val_size/(test_size+val_size), random_state=42)\n",
    "\n",
    "        self.train_set = train_data\n",
    "        self.test_set = test_data\n",
    "        self.validation_set = val_data\n",
    "\n",
    "        self.save_sets()\n",
    "        \n",
    "       \n",
    "    def __len__(self):\n",
    "        return len(self.isarcasmData)\n",
    "\n",
    "    def __getitem__(self, idx):\n",
    "        if torch.is_tensor(idx):\n",
    "            idx = idx.tolist()\n",
    "\n",
    "        text = self.isarcasmData.iloc[idx , 1]\n",
    "        label = self.isarcasmData.iloc[idx , 2]\n",
    "        \n",
    "        sample = {'tweet': text, 'label': label}\n",
    "\n",
    "        if self.transform:\n",
    "            sample = self.transform(sample)\n",
    "\n",
    "        return sample\n",
    "    \n",
    "    def save_sets(self):\n",
    "       \n",
    "        # Save the datasets to separate CSV files\n",
    "        self.train_set.to_csv('train_dataset.csv', index=False)\n",
    "        self.test_set.to_csv('test_dataset.csv', index=False)\n",
    "        self.validation_set.to_csv('val_dataset.csv', index=False)\n"
   ]
  },
  {
   "cell_type": "code",
   "execution_count": 14,
   "metadata": {},
   "outputs": [
    {
     "name": "stdout",
     "output_type": "stream",
     "text": [
      "3467\n"
     ]
    },
    {
     "data": {
      "text/plain": [
       "{'tweet': 'white bitches vomiting on my shoes,, please take a step back before i elbow your face and one inch punch the fetus growing inside of you',\n",
       " 'label': 0}"
      ]
     },
     "execution_count": 14,
     "metadata": {},
     "output_type": "execute_result"
    }
   ],
   "source": [
    "#instantiate the class\n",
    "\n",
    "Isarcasm_dataset = IsarcasmDataset(csv_file='isarcasm2022.csv',\n",
    "                                    root_dir='/')\n",
    "\n",
    "print(Isarcasm_dataset.__len__()) \n",
    "Isarcasm_dataset.__getitem__(4)\n",
    "\n",
    "\n",
    "#print(Isarcasm_dataset.test_set)"
   ]
  },
  {
   "cell_type": "code",
   "execution_count": 15,
   "metadata": {},
   "outputs": [],
   "source": [
    "#dataloader \n",
    "\n",
    "#dataloader = DataLoader(transformed_dataset, batch_size=4,\n",
    "                        #shuffle=True, num_workers=0)"
   ]
  },
  {
   "cell_type": "code",
   "execution_count": 16,
   "metadata": {},
   "outputs": [],
   "source": [
    "class BertDataset(Dataset):\n",
    "    def __init__(self, tokenizer,max_length):\n",
    "        super(BertDataset, self).__init__()\n",
    "        #self.root_dir=root_dir\n",
    "        self.train_csv=pd.read_csv('val_dataset.csv')\n",
    "        self.tokenizer=tokenizer\n",
    "        self.target=self.train_csv.iloc[:,2] #label in column 2\n",
    "        self.max_length=max_length\n",
    "        \n",
    "    def __len__(self):\n",
    "        return len(self.train_csv)\n",
    "    \n",
    "    def __getitem__(self, index):\n",
    "        \n",
    "        text1 = self.train_csv.iloc[index,1] #text im column 1\n",
    "        \n",
    "        inputs = self.tokenizer.encode_plus( \n",
    "            \n",
    "        #tokenizer settings https://stackoverflow.com/questions/61708486/whats-difference-between-tokenizer-encode-and-tokenizer-encode-plus-in-hugging\n",
    "        #https://huggingface.co/docs/transformers/en/main_classes/tokenizer   \n",
    "        #https://huggingface.co/docs/transformers/v4.40.1/en/internal/tokenization_utils#transformers.PreTrainedTokenizerBase.encode_plus\n",
    "        \n",
    "            text1 , #sequnce to be encoded\n",
    "            None,  #text_pair ??\n",
    "            pad_to_max_length=True,\n",
    "            add_special_tokens=True, #https://stackoverflow.com/questions/71679626/what-is-so-special-about-special-tokens\n",
    "            return_attention_mask=True,\n",
    "            max_length=self.max_length,\n",
    "        )\n",
    "        \n",
    "        # encodes the text using the BERT tokenizer's encode_plus method, which returns the input IDs, token type IDs, and attention mask.\n",
    "        ids = inputs[\"input_ids\"] #not really understood this part...\n",
    "        token_type_ids = inputs[\"token_type_ids\"] #DOES THIS PART NEED TO BE CHANGED FOR THE TEST TO WORK ?\n",
    "        mask = inputs[\"attention_mask\"]\n",
    "\n",
    "        return {\n",
    "            'ids': torch.tensor(ids, dtype=torch.long),\n",
    "            'mask': torch.tensor(mask, dtype=torch.long),\n",
    "            'token_type_ids': torch.tensor(token_type_ids, dtype=torch.long),\n",
    "            'target': torch.tensor(self.train_csv.iloc[index, 2], dtype=torch.long) #label im column 2\n",
    "            }\n",
    "tokenizer = transformers.BertTokenizer.from_pretrained(\"bert-base-uncased\") \n",
    "\n",
    "'''\n",
    "#in an other project they use that\n",
    "DistilBertTokenizerFast.from_pretrained('distilbert-base-uncased')\n",
    "train_encodings = tokenizer(train_texts, truncation=True, padding=True)\n",
    "val_encodings = tokenizer(val_texts, truncation=True, padding=True)\n",
    "test_encodings = tokenizer(test_texts, truncation=True, padding=True)\n",
    "\n",
    "'''\n",
    "\n",
    "\n",
    "dataset= BertDataset(tokenizer, max_length=100) #instanciate the dataset, adapt\n",
    "dataloader=DataLoader(dataset=dataset,batch_size=32) #from, torch adapt"
   ]
  },
  {
   "cell_type": "markdown",
   "metadata": {},
   "source": [
    "In line 4, we have initialized our pre-trained ‘bert-base-uncased’ BERT model from Hugging face library and followed by initializing our linear dense layer for classifying movie reviews.\n",
    "\n",
    "Here, we use BCEWithLogitsLoss which combines a Sigmoid layer and the BCELoss in one single class because this version is more numerically stable than using a plain Sigmoid followed by a BCELoss"
   ]
  },
  {
   "cell_type": "code",
   "execution_count": 17,
   "metadata": {},
   "outputs": [],
   "source": [
    "#https://huggingface.co/docs/transformers/en/model_doc/bert\n",
    "class BERT(nn.Module):\n",
    "    def __init__(self):\n",
    "        super(BERT, self).__init__()\n",
    "        self.bert_model = transformers.BertModel.from_pretrained(\"bert-base-uncased\")\n",
    "        self.out = nn.Linear(768, 1)\n",
    "        \n",
    "    def forward(self,ids,mask,token_type_ids):\n",
    "        _,o2= self.bert_model(ids,attention_mask=mask,token_type_ids=token_type_ids, return_dict=False)\n",
    "        \n",
    "        out= self.out(o2)\n",
    "        \n",
    "        return out\n",
    "    \n",
    "model=BERT()\n",
    "\n",
    "loss_fn = nn.BCEWithLogitsLoss()\n",
    "\n",
    "#Initialize Optimizer\n",
    "optimizer= optim.Adam(model.parameters(),lr= 0.0001)\n"
   ]
  },
  {
   "cell_type": "markdown",
   "metadata": {},
   "source": [
    "irst, we do not retrain our pre-trained BERT and train only the last linear dense layer.\n",
    "For this, we need to define it as follows :"
   ]
  },
  {
   "cell_type": "code",
   "execution_count": 18,
   "metadata": {},
   "outputs": [],
   "source": [
    "for param in model.bert_model.parameters():\n",
    "    param.requires_grad = False #fine tuning only not from 0"
   ]
  },
  {
   "cell_type": "markdown",
   "metadata": {},
   "source": []
  },
  {
   "cell_type": "code",
   "execution_count": 19,
   "metadata": {},
   "outputs": [],
   "source": [
    "def finetune(epochs,dataloader,model,loss_fn,optimizer):\n",
    "    model.train()\n",
    "    for  epoch in range(epochs):\n",
    "        print(epoch)\n",
    "        \n",
    "        loop=tqdm(enumerate(dataloader),leave=False,total=len(dataloader))\n",
    "        for batch, dl in loop:\n",
    "            ids=dl['ids']\n",
    "            token_type_ids=dl['token_type_ids']\n",
    "            mask= dl['mask']\n",
    "            label=dl['target']\n",
    "            label = label.unsqueeze(1)\n",
    "            \n",
    "            optimizer.zero_grad()\n",
    "            \n",
    "            output=model(\n",
    "                ids=ids,\n",
    "                mask=mask,\n",
    "                token_type_ids=token_type_ids)\n",
    "            label = label.type_as(output)\n",
    "\n",
    "            loss=loss_fn(output,label)\n",
    "            loss.backward()\n",
    "            \n",
    "            optimizer.step()\n",
    "            \n",
    "            pred = np.where(output >= 0, 1, 0)\n",
    "\n",
    "            num_correct = sum(1 for a, b in zip(pred, label) if a[0] == b[0])\n",
    "            num_samples = pred.shape[0]\n",
    "            accuracy = num_correct/num_samples\n",
    "            \n",
    "            print(f'Got {num_correct} / {num_samples} with accuracy {float(num_correct)/float(num_samples)*100:.2f}')\n",
    "            \n",
    "            # Show progress while training\n",
    "            loop.set_description(f'Epoch={epoch}/{epochs}')\n",
    "            loop.set_postfix(loss=loss.item(),acc=accuracy)\n",
    "\n",
    "    return model"
   ]
  },
  {
   "cell_type": "code",
   "execution_count": 20,
   "metadata": {},
   "outputs": [
    {
     "name": "stdout",
     "output_type": "stream",
     "text": [
      "0\n"
     ]
    },
    {
     "name": "stderr",
     "output_type": "stream",
     "text": [
      "  0%|          | 0/17 [00:00<?, ?it/s]Truncation was not explicitly activated but `max_length` is provided a specific value, please use `truncation=True` to explicitly truncate examples to max length. Defaulting to 'longest_first' truncation strategy. If you encode pairs of sequences (GLUE-style) with the tokenizer you can select this strategy more precisely by providing a specific strategy to `truncation`.\n"
     ]
    },
    {
     "name": "stderr",
     "output_type": "stream",
     "text": [
      "c:\\Users\\Maxime\\AppData\\Local\\Programs\\Python\\Python310\\lib\\site-packages\\transformers\\tokenization_utils_base.py:2674: FutureWarning: The `pad_to_max_length` argument is deprecated and will be removed in a future version, use `padding=True` or `padding='longest'` to pad to the longest sequence in the batch, or use `padding='max_length'` to pad to a max length. In this case, you can give a specific length with `max_length` (e.g. `max_length=45`) or leave max_length to None to pad to the maximal input size of the model (e.g. 512 for Bert).\n",
      "  warnings.warn(\n",
      "Epoch=0/5:   6%|▌         | 1/17 [00:04<01:08,  4.27s/it, acc=0.781, loss=0.607]"
     ]
    },
    {
     "name": "stdout",
     "output_type": "stream",
     "text": [
      "Got 25 / 32 with accuracy 78.12\n"
     ]
    },
    {
     "name": "stderr",
     "output_type": "stream",
     "text": [
      "Epoch=0/5:  12%|█▏        | 2/17 [00:08<01:03,  4.21s/it, acc=0.875, loss=0.565]"
     ]
    },
    {
     "name": "stdout",
     "output_type": "stream",
     "text": [
      "Got 28 / 32 with accuracy 87.50\n"
     ]
    },
    {
     "name": "stderr",
     "output_type": "stream",
     "text": [
      "Epoch=0/5:  18%|█▊        | 3/17 [00:12<00:59,  4.23s/it, acc=0.719, loss=0.629]"
     ]
    },
    {
     "name": "stdout",
     "output_type": "stream",
     "text": [
      "Got 23 / 32 with accuracy 71.88\n"
     ]
    },
    {
     "name": "stderr",
     "output_type": "stream",
     "text": [
      "Epoch=0/5:  24%|██▎       | 4/17 [00:16<00:53,  4.14s/it, acc=0.688, loss=0.633]"
     ]
    },
    {
     "name": "stdout",
     "output_type": "stream",
     "text": [
      "Got 22 / 32 with accuracy 68.75\n"
     ]
    },
    {
     "name": "stderr",
     "output_type": "stream",
     "text": [
      "Epoch=0/5:  29%|██▉       | 5/17 [00:21<00:50,  4.20s/it, acc=0.844, loss=0.56] "
     ]
    },
    {
     "name": "stdout",
     "output_type": "stream",
     "text": [
      "Got 27 / 32 with accuracy 84.38\n"
     ]
    },
    {
     "name": "stderr",
     "output_type": "stream",
     "text": [
      "Epoch=0/5:  35%|███▌      | 6/17 [00:26<00:52,  4.74s/it, acc=0.75, loss=0.609]"
     ]
    },
    {
     "name": "stdout",
     "output_type": "stream",
     "text": [
      "Got 24 / 32 with accuracy 75.00\n"
     ]
    },
    {
     "name": "stderr",
     "output_type": "stream",
     "text": [
      "Epoch=0/5:  41%|████      | 7/17 [00:32<00:49,  4.96s/it, acc=0.688, loss=0.623]"
     ]
    },
    {
     "name": "stdout",
     "output_type": "stream",
     "text": [
      "Got 22 / 32 with accuracy 68.75\n"
     ]
    },
    {
     "name": "stderr",
     "output_type": "stream",
     "text": [
      "Epoch=0/5:  47%|████▋     | 8/17 [00:39<00:50,  5.65s/it, acc=0.844, loss=0.535]"
     ]
    },
    {
     "name": "stdout",
     "output_type": "stream",
     "text": [
      "Got 27 / 32 with accuracy 84.38\n"
     ]
    },
    {
     "name": "stderr",
     "output_type": "stream",
     "text": [
      "Epoch=0/5:  53%|█████▎    | 9/17 [00:44<00:45,  5.65s/it, acc=0.812, loss=0.541]"
     ]
    },
    {
     "name": "stdout",
     "output_type": "stream",
     "text": [
      "Got 26 / 32 with accuracy 81.25\n"
     ]
    },
    {
     "name": "stderr",
     "output_type": "stream",
     "text": [
      "Epoch=0/5:  59%|█████▉    | 10/17 [00:50<00:39,  5.58s/it, acc=0.781, loss=0.561]"
     ]
    },
    {
     "name": "stdout",
     "output_type": "stream",
     "text": [
      "Got 25 / 32 with accuracy 78.12\n"
     ]
    },
    {
     "name": "stderr",
     "output_type": "stream",
     "text": [
      "Epoch=0/5:  65%|██████▍   | 11/17 [00:55<00:32,  5.49s/it, acc=0.781, loss=0.566]"
     ]
    },
    {
     "name": "stdout",
     "output_type": "stream",
     "text": [
      "Got 25 / 32 with accuracy 78.12\n"
     ]
    },
    {
     "name": "stderr",
     "output_type": "stream",
     "text": [
      "Epoch=0/5:  71%|███████   | 12/17 [01:01<00:27,  5.46s/it, acc=0.719, loss=0.613]"
     ]
    },
    {
     "name": "stdout",
     "output_type": "stream",
     "text": [
      "Got 23 / 32 with accuracy 71.88\n"
     ]
    },
    {
     "name": "stderr",
     "output_type": "stream",
     "text": [
      "Epoch=0/5:  76%|███████▋  | 13/17 [01:06<00:22,  5.58s/it, acc=0.75, loss=0.584] "
     ]
    },
    {
     "name": "stdout",
     "output_type": "stream",
     "text": [
      "Got 24 / 32 with accuracy 75.00\n"
     ]
    },
    {
     "name": "stderr",
     "output_type": "stream",
     "text": [
      "Epoch=0/5:  82%|████████▏ | 14/17 [01:12<00:16,  5.51s/it, acc=0.688, loss=0.623]"
     ]
    },
    {
     "name": "stdout",
     "output_type": "stream",
     "text": [
      "Got 22 / 32 with accuracy 68.75\n"
     ]
    },
    {
     "name": "stderr",
     "output_type": "stream",
     "text": [
      "Epoch=0/5:  88%|████████▊ | 15/17 [01:17<00:10,  5.48s/it, acc=0.812, loss=0.53] "
     ]
    },
    {
     "name": "stdout",
     "output_type": "stream",
     "text": [
      "Got 26 / 32 with accuracy 81.25\n"
     ]
    },
    {
     "name": "stderr",
     "output_type": "stream",
     "text": [
      "Epoch=0/5:  94%|█████████▍| 16/17 [01:22<00:05,  5.40s/it, acc=0.781, loss=0.553]"
     ]
    },
    {
     "name": "stdout",
     "output_type": "stream",
     "text": [
      "Got 25 / 32 with accuracy 78.12\n"
     ]
    },
    {
     "name": "stderr",
     "output_type": "stream",
     "text": [
      "                                                                                 \r"
     ]
    },
    {
     "name": "stdout",
     "output_type": "stream",
     "text": [
      "Got 7 / 9 with accuracy 77.78\n",
      "1\n"
     ]
    },
    {
     "name": "stderr",
     "output_type": "stream",
     "text": [
      "Epoch=1/5:   6%|▌         | 1/17 [00:05<01:22,  5.16s/it, acc=0.781, loss=0.543]"
     ]
    },
    {
     "name": "stdout",
     "output_type": "stream",
     "text": [
      "Got 25 / 32 with accuracy 78.12\n"
     ]
    },
    {
     "name": "stderr",
     "output_type": "stream",
     "text": [
      "Epoch=1/5:  12%|█▏        | 2/17 [00:11<01:25,  5.73s/it, acc=0.875, loss=0.454]"
     ]
    },
    {
     "name": "stdout",
     "output_type": "stream",
     "text": [
      "Got 28 / 32 with accuracy 87.50\n"
     ]
    },
    {
     "name": "stderr",
     "output_type": "stream",
     "text": [
      "Epoch=1/5:  18%|█▊        | 3/17 [00:16<01:18,  5.58s/it, acc=0.719, loss=0.581]"
     ]
    },
    {
     "name": "stdout",
     "output_type": "stream",
     "text": [
      "Got 23 / 32 with accuracy 71.88\n"
     ]
    },
    {
     "name": "stderr",
     "output_type": "stream",
     "text": [
      "Epoch=1/5:  24%|██▎       | 4/17 [00:22<01:11,  5.53s/it, acc=0.719, loss=0.609]"
     ]
    },
    {
     "name": "stdout",
     "output_type": "stream",
     "text": [
      "Got 23 / 32 with accuracy 71.88\n"
     ]
    },
    {
     "name": "stderr",
     "output_type": "stream",
     "text": [
      "Epoch=1/5:  29%|██▉       | 5/17 [00:27<01:06,  5.51s/it, acc=0.844, loss=0.48] "
     ]
    },
    {
     "name": "stdout",
     "output_type": "stream",
     "text": [
      "Got 27 / 32 with accuracy 84.38\n"
     ]
    },
    {
     "name": "stderr",
     "output_type": "stream",
     "text": [
      "Epoch=1/5:  35%|███▌      | 6/17 [00:33<01:00,  5.53s/it, acc=0.75, loss=0.587]"
     ]
    },
    {
     "name": "stdout",
     "output_type": "stream",
     "text": [
      "Got 24 / 32 with accuracy 75.00\n"
     ]
    },
    {
     "name": "stderr",
     "output_type": "stream",
     "text": [
      "Epoch=1/5:  41%|████      | 7/17 [00:38<00:54,  5.48s/it, acc=0.688, loss=0.599]"
     ]
    },
    {
     "name": "stdout",
     "output_type": "stream",
     "text": [
      "Got 22 / 32 with accuracy 68.75\n"
     ]
    },
    {
     "name": "stderr",
     "output_type": "stream",
     "text": [
      "Epoch=1/5:  47%|████▋     | 8/17 [00:44<00:49,  5.47s/it, acc=0.844, loss=0.477]"
     ]
    },
    {
     "name": "stdout",
     "output_type": "stream",
     "text": [
      "Got 27 / 32 with accuracy 84.38\n"
     ]
    },
    {
     "name": "stderr",
     "output_type": "stream",
     "text": [
      "Epoch=1/5:  53%|█████▎    | 9/17 [00:49<00:43,  5.43s/it, acc=0.812, loss=0.512]"
     ]
    },
    {
     "name": "stdout",
     "output_type": "stream",
     "text": [
      "Got 26 / 32 with accuracy 81.25\n"
     ]
    },
    {
     "name": "stderr",
     "output_type": "stream",
     "text": [
      "Epoch=1/5:  59%|█████▉    | 10/17 [00:54<00:37,  5.42s/it, acc=0.781, loss=0.534]"
     ]
    },
    {
     "name": "stdout",
     "output_type": "stream",
     "text": [
      "Got 25 / 32 with accuracy 78.12\n"
     ]
    },
    {
     "name": "stderr",
     "output_type": "stream",
     "text": [
      "Epoch=1/5:  65%|██████▍   | 11/17 [00:59<00:32,  5.36s/it, acc=0.781, loss=0.547]"
     ]
    },
    {
     "name": "stdout",
     "output_type": "stream",
     "text": [
      "Got 25 / 32 with accuracy 78.12\n"
     ]
    },
    {
     "name": "stderr",
     "output_type": "stream",
     "text": [
      "Epoch=1/5:  71%|███████   | 12/17 [01:05<00:26,  5.33s/it, acc=0.719, loss=0.61] "
     ]
    },
    {
     "name": "stdout",
     "output_type": "stream",
     "text": [
      "Got 23 / 32 with accuracy 71.88\n"
     ]
    },
    {
     "name": "stderr",
     "output_type": "stream",
     "text": [
      "Epoch=1/5:  76%|███████▋  | 13/17 [01:11<00:22,  5.55s/it, acc=0.75, loss=0.574]"
     ]
    },
    {
     "name": "stdout",
     "output_type": "stream",
     "text": [
      "Got 24 / 32 with accuracy 75.00\n"
     ]
    },
    {
     "name": "stderr",
     "output_type": "stream",
     "text": [
      "Epoch=1/5:  82%|████████▏ | 14/17 [01:16<00:16,  5.49s/it, acc=0.688, loss=0.614]"
     ]
    },
    {
     "name": "stdout",
     "output_type": "stream",
     "text": [
      "Got 22 / 32 with accuracy 68.75\n"
     ]
    },
    {
     "name": "stderr",
     "output_type": "stream",
     "text": [
      "Epoch=1/5:  88%|████████▊ | 15/17 [01:22<00:10,  5.46s/it, acc=0.812, loss=0.482]"
     ]
    },
    {
     "name": "stdout",
     "output_type": "stream",
     "text": [
      "Got 26 / 32 with accuracy 81.25\n"
     ]
    },
    {
     "name": "stderr",
     "output_type": "stream",
     "text": [
      "Epoch=1/5:  94%|█████████▍| 16/17 [01:27<00:05,  5.40s/it, acc=0.781, loss=0.551]"
     ]
    },
    {
     "name": "stdout",
     "output_type": "stream",
     "text": [
      "Got 25 / 32 with accuracy 78.12\n"
     ]
    },
    {
     "name": "stderr",
     "output_type": "stream",
     "text": [
      "                                                                                 \r"
     ]
    },
    {
     "name": "stdout",
     "output_type": "stream",
     "text": [
      "Got 7 / 9 with accuracy 77.78\n",
      "2\n"
     ]
    },
    {
     "name": "stderr",
     "output_type": "stream",
     "text": [
      "Epoch=2/5:   6%|▌         | 1/17 [00:05<01:21,  5.11s/it, acc=0.781, loss=0.541]"
     ]
    },
    {
     "name": "stdout",
     "output_type": "stream",
     "text": [
      "Got 25 / 32 with accuracy 78.12\n"
     ]
    },
    {
     "name": "stderr",
     "output_type": "stream",
     "text": [
      "Epoch=2/5:  12%|█▏        | 2/17 [00:10<01:18,  5.22s/it, acc=0.875, loss=0.44] "
     ]
    },
    {
     "name": "stdout",
     "output_type": "stream",
     "text": [
      "Got 28 / 32 with accuracy 87.50\n"
     ]
    },
    {
     "name": "stderr",
     "output_type": "stream",
     "text": [
      "Epoch=2/5:  18%|█▊        | 3/17 [00:15<01:14,  5.30s/it, acc=0.719, loss=0.593]"
     ]
    },
    {
     "name": "stdout",
     "output_type": "stream",
     "text": [
      "Got 23 / 32 with accuracy 71.88\n"
     ]
    },
    {
     "name": "stderr",
     "output_type": "stream",
     "text": [
      "Epoch=2/5:  24%|██▎       | 4/17 [00:21<01:10,  5.44s/it, acc=0.719, loss=0.61] "
     ]
    },
    {
     "name": "stdout",
     "output_type": "stream",
     "text": [
      "Got 23 / 32 with accuracy 71.88\n"
     ]
    },
    {
     "name": "stderr",
     "output_type": "stream",
     "text": [
      "Epoch=2/5:  29%|██▉       | 5/17 [00:26<01:05,  5.46s/it, acc=0.844, loss=0.451]"
     ]
    },
    {
     "name": "stdout",
     "output_type": "stream",
     "text": [
      "Got 27 / 32 with accuracy 84.38\n"
     ]
    },
    {
     "name": "stderr",
     "output_type": "stream",
     "text": [
      "Epoch=2/5:  35%|███▌      | 6/17 [00:32<01:00,  5.54s/it, acc=0.75, loss=0.578] "
     ]
    },
    {
     "name": "stdout",
     "output_type": "stream",
     "text": [
      "Got 24 / 32 with accuracy 75.00\n"
     ]
    },
    {
     "name": "stderr",
     "output_type": "stream",
     "text": [
      "Epoch=2/5:  41%|████      | 7/17 [00:38<00:55,  5.54s/it, acc=0.688, loss=0.623]"
     ]
    },
    {
     "name": "stdout",
     "output_type": "stream",
     "text": [
      "Got 22 / 32 with accuracy 68.75\n"
     ]
    },
    {
     "name": "stderr",
     "output_type": "stream",
     "text": [
      "Epoch=2/5:  47%|████▋     | 8/17 [00:44<00:52,  5.80s/it, acc=0.844, loss=0.446]"
     ]
    },
    {
     "name": "stdout",
     "output_type": "stream",
     "text": [
      "Got 27 / 32 with accuracy 84.38\n"
     ]
    },
    {
     "name": "stderr",
     "output_type": "stream",
     "text": [
      "Epoch=2/5:  53%|█████▎    | 9/17 [00:50<00:46,  5.76s/it, acc=0.812, loss=0.49] "
     ]
    },
    {
     "name": "stdout",
     "output_type": "stream",
     "text": [
      "Got 26 / 32 with accuracy 81.25\n"
     ]
    },
    {
     "name": "stderr",
     "output_type": "stream",
     "text": [
      "Epoch=2/5:  59%|█████▉    | 10/17 [00:55<00:39,  5.68s/it, acc=0.781, loss=0.529]"
     ]
    },
    {
     "name": "stdout",
     "output_type": "stream",
     "text": [
      "Got 25 / 32 with accuracy 78.12\n"
     ]
    },
    {
     "name": "stderr",
     "output_type": "stream",
     "text": [
      "Epoch=2/5:  65%|██████▍   | 11/17 [01:01<00:34,  5.68s/it, acc=0.781, loss=0.544]"
     ]
    },
    {
     "name": "stdout",
     "output_type": "stream",
     "text": [
      "Got 25 / 32 with accuracy 78.12\n"
     ]
    },
    {
     "name": "stderr",
     "output_type": "stream",
     "text": [
      "Epoch=2/5:  71%|███████   | 12/17 [01:06<00:28,  5.62s/it, acc=0.719, loss=0.619]"
     ]
    },
    {
     "name": "stdout",
     "output_type": "stream",
     "text": [
      "Got 23 / 32 with accuracy 71.88\n"
     ]
    },
    {
     "name": "stderr",
     "output_type": "stream",
     "text": [
      "Epoch=2/5:  76%|███████▋  | 13/17 [01:12<00:22,  5.66s/it, acc=0.75, loss=0.567] "
     ]
    },
    {
     "name": "stdout",
     "output_type": "stream",
     "text": [
      "Got 24 / 32 with accuracy 75.00\n"
     ]
    },
    {
     "name": "stderr",
     "output_type": "stream",
     "text": [
      "Epoch=2/5:  82%|████████▏ | 14/17 [01:18<00:16,  5.65s/it, acc=0.688, loss=0.639]"
     ]
    },
    {
     "name": "stdout",
     "output_type": "stream",
     "text": [
      "Got 22 / 32 with accuracy 68.75\n"
     ]
    },
    {
     "name": "stderr",
     "output_type": "stream",
     "text": [
      "Epoch=2/5:  88%|████████▊ | 15/17 [01:24<00:11,  5.68s/it, acc=0.812, loss=0.48] "
     ]
    },
    {
     "name": "stdout",
     "output_type": "stream",
     "text": [
      "Got 26 / 32 with accuracy 81.25\n"
     ]
    },
    {
     "name": "stderr",
     "output_type": "stream",
     "text": [
      "Epoch=2/5:  94%|█████████▍| 16/17 [01:29<00:05,  5.64s/it, acc=0.781, loss=0.544]"
     ]
    },
    {
     "name": "stdout",
     "output_type": "stream",
     "text": [
      "Got 25 / 32 with accuracy 78.12\n"
     ]
    },
    {
     "name": "stderr",
     "output_type": "stream",
     "text": [
      "                                                                                 \r"
     ]
    },
    {
     "name": "stdout",
     "output_type": "stream",
     "text": [
      "Got 7 / 9 with accuracy 77.78\n",
      "3\n"
     ]
    },
    {
     "name": "stderr",
     "output_type": "stream",
     "text": [
      "Epoch=3/5:   6%|▌         | 1/17 [00:05<01:23,  5.22s/it, acc=0.781, loss=0.525]"
     ]
    },
    {
     "name": "stdout",
     "output_type": "stream",
     "text": [
      "Got 25 / 32 with accuracy 78.12\n"
     ]
    },
    {
     "name": "stderr",
     "output_type": "stream",
     "text": [
      "Epoch=3/5:  12%|█▏        | 2/17 [00:10<01:18,  5.20s/it, acc=0.875, loss=0.431]"
     ]
    },
    {
     "name": "stdout",
     "output_type": "stream",
     "text": [
      "Got 28 / 32 with accuracy 87.50\n"
     ]
    },
    {
     "name": "stderr",
     "output_type": "stream",
     "text": [
      "Epoch=3/5:  18%|█▊        | 3/17 [00:16<01:18,  5.62s/it, acc=0.719, loss=0.595]"
     ]
    },
    {
     "name": "stdout",
     "output_type": "stream",
     "text": [
      "Got 23 / 32 with accuracy 71.88\n"
     ]
    },
    {
     "name": "stderr",
     "output_type": "stream",
     "text": [
      "Epoch=3/5:  24%|██▎       | 4/17 [00:22<01:13,  5.63s/it, acc=0.719, loss=0.619]"
     ]
    },
    {
     "name": "stdout",
     "output_type": "stream",
     "text": [
      "Got 23 / 32 with accuracy 71.88\n"
     ]
    },
    {
     "name": "stderr",
     "output_type": "stream",
     "text": [
      "Epoch=3/5:  29%|██▉       | 5/17 [00:27<01:07,  5.66s/it, acc=0.844, loss=0.442]"
     ]
    },
    {
     "name": "stdout",
     "output_type": "stream",
     "text": [
      "Got 27 / 32 with accuracy 84.38\n"
     ]
    },
    {
     "name": "stderr",
     "output_type": "stream",
     "text": [
      "Epoch=3/5:  35%|███▌      | 6/17 [00:33<01:02,  5.64s/it, acc=0.75, loss=0.583] "
     ]
    },
    {
     "name": "stdout",
     "output_type": "stream",
     "text": [
      "Got 24 / 32 with accuracy 75.00\n"
     ]
    },
    {
     "name": "stderr",
     "output_type": "stream",
     "text": [
      "Epoch=3/5:  41%|████      | 7/17 [00:39<00:56,  5.65s/it, acc=0.688, loss=0.619]"
     ]
    },
    {
     "name": "stdout",
     "output_type": "stream",
     "text": [
      "Got 22 / 32 with accuracy 68.75\n"
     ]
    },
    {
     "name": "stderr",
     "output_type": "stream",
     "text": [
      "Epoch=3/5:  47%|████▋     | 8/17 [00:44<00:49,  5.55s/it, acc=0.844, loss=0.44] "
     ]
    },
    {
     "name": "stdout",
     "output_type": "stream",
     "text": [
      "Got 27 / 32 with accuracy 84.38\n"
     ]
    },
    {
     "name": "stderr",
     "output_type": "stream",
     "text": [
      "Epoch=3/5:  53%|█████▎    | 9/17 [00:49<00:44,  5.51s/it, acc=0.812, loss=0.493]"
     ]
    },
    {
     "name": "stdout",
     "output_type": "stream",
     "text": [
      "Got 26 / 32 with accuracy 81.25\n"
     ]
    },
    {
     "name": "stderr",
     "output_type": "stream",
     "text": [
      "Epoch=3/5:  59%|█████▉    | 10/17 [00:55<00:37,  5.42s/it, acc=0.781, loss=0.523]"
     ]
    },
    {
     "name": "stdout",
     "output_type": "stream",
     "text": [
      "Got 25 / 32 with accuracy 78.12\n"
     ]
    },
    {
     "name": "stderr",
     "output_type": "stream",
     "text": [
      "Epoch=3/5:  65%|██████▍   | 11/17 [01:00<00:32,  5.40s/it, acc=0.781, loss=0.543]"
     ]
    },
    {
     "name": "stdout",
     "output_type": "stream",
     "text": [
      "Got 25 / 32 with accuracy 78.12\n"
     ]
    },
    {
     "name": "stderr",
     "output_type": "stream",
     "text": [
      "Epoch=3/5:  71%|███████   | 12/17 [01:05<00:26,  5.35s/it, acc=0.719, loss=0.627]"
     ]
    },
    {
     "name": "stdout",
     "output_type": "stream",
     "text": [
      "Got 23 / 32 with accuracy 71.88\n"
     ]
    },
    {
     "name": "stderr",
     "output_type": "stream",
     "text": [
      "Epoch=3/5:  76%|███████▋  | 13/17 [01:11<00:21,  5.44s/it, acc=0.75, loss=0.572] "
     ]
    },
    {
     "name": "stdout",
     "output_type": "stream",
     "text": [
      "Got 24 / 32 with accuracy 75.00\n"
     ]
    },
    {
     "name": "stderr",
     "output_type": "stream",
     "text": [
      "Epoch=3/5:  82%|████████▏ | 14/17 [01:17<00:16,  5.53s/it, acc=0.688, loss=0.632]"
     ]
    },
    {
     "name": "stdout",
     "output_type": "stream",
     "text": [
      "Got 22 / 32 with accuracy 68.75\n"
     ]
    },
    {
     "name": "stderr",
     "output_type": "stream",
     "text": [
      "Epoch=3/5:  88%|████████▊ | 15/17 [01:22<00:10,  5.47s/it, acc=0.812, loss=0.475]"
     ]
    },
    {
     "name": "stdout",
     "output_type": "stream",
     "text": [
      "Got 26 / 32 with accuracy 81.25\n"
     ]
    },
    {
     "name": "stderr",
     "output_type": "stream",
     "text": [
      "Epoch=3/5:  94%|█████████▍| 16/17 [01:27<00:05,  5.41s/it, acc=0.781, loss=0.532]"
     ]
    },
    {
     "name": "stdout",
     "output_type": "stream",
     "text": [
      "Got 25 / 32 with accuracy 78.12\n"
     ]
    },
    {
     "name": "stderr",
     "output_type": "stream",
     "text": [
      "                                                                                 \r"
     ]
    },
    {
     "name": "stdout",
     "output_type": "stream",
     "text": [
      "Got 7 / 9 with accuracy 77.78\n",
      "4\n"
     ]
    },
    {
     "name": "stderr",
     "output_type": "stream",
     "text": [
      "Epoch=4/5:   6%|▌         | 1/17 [00:05<01:20,  5.05s/it, acc=0.781, loss=0.536]"
     ]
    },
    {
     "name": "stdout",
     "output_type": "stream",
     "text": [
      "Got 25 / 32 with accuracy 78.12\n"
     ]
    },
    {
     "name": "stderr",
     "output_type": "stream",
     "text": [
      "Epoch=4/5:  12%|█▏        | 2/17 [00:10<01:16,  5.11s/it, acc=0.875, loss=0.426]"
     ]
    },
    {
     "name": "stdout",
     "output_type": "stream",
     "text": [
      "Got 28 / 32 with accuracy 87.50\n"
     ]
    },
    {
     "name": "stderr",
     "output_type": "stream",
     "text": [
      "Epoch=4/5:  18%|█▊        | 3/17 [00:15<01:12,  5.18s/it, acc=0.719, loss=0.597]"
     ]
    },
    {
     "name": "stdout",
     "output_type": "stream",
     "text": [
      "Got 23 / 32 with accuracy 71.88\n"
     ]
    },
    {
     "name": "stderr",
     "output_type": "stream",
     "text": [
      "Epoch=4/5:  24%|██▎       | 4/17 [00:20<01:08,  5.24s/it, acc=0.719, loss=0.616]"
     ]
    },
    {
     "name": "stdout",
     "output_type": "stream",
     "text": [
      "Got 23 / 32 with accuracy 71.88\n"
     ]
    },
    {
     "name": "stderr",
     "output_type": "stream",
     "text": [
      "Epoch=4/5:  29%|██▉       | 5/17 [00:26<01:03,  5.25s/it, acc=0.844, loss=0.448]"
     ]
    },
    {
     "name": "stdout",
     "output_type": "stream",
     "text": [
      "Got 27 / 32 with accuracy 84.38\n"
     ]
    },
    {
     "name": "stderr",
     "output_type": "stream",
     "text": [
      "Epoch=4/5:  35%|███▌      | 6/17 [00:31<00:57,  5.24s/it, acc=0.75, loss=0.585] "
     ]
    },
    {
     "name": "stdout",
     "output_type": "stream",
     "text": [
      "Got 24 / 32 with accuracy 75.00\n"
     ]
    },
    {
     "name": "stderr",
     "output_type": "stream",
     "text": [
      "Epoch=4/5:  41%|████      | 7/17 [00:36<00:52,  5.26s/it, acc=0.688, loss=0.607]"
     ]
    },
    {
     "name": "stdout",
     "output_type": "stream",
     "text": [
      "Got 22 / 32 with accuracy 68.75\n"
     ]
    },
    {
     "name": "stderr",
     "output_type": "stream",
     "text": [
      "Epoch=4/5:  47%|████▋     | 8/17 [00:41<00:47,  5.29s/it, acc=0.844, loss=0.456]"
     ]
    },
    {
     "name": "stdout",
     "output_type": "stream",
     "text": [
      "Got 27 / 32 with accuracy 84.38\n"
     ]
    },
    {
     "name": "stderr",
     "output_type": "stream",
     "text": [
      "Epoch=4/5:  53%|█████▎    | 9/17 [00:47<00:44,  5.53s/it, acc=0.812, loss=0.489]"
     ]
    },
    {
     "name": "stdout",
     "output_type": "stream",
     "text": [
      "Got 26 / 32 with accuracy 81.25\n"
     ]
    },
    {
     "name": "stderr",
     "output_type": "stream",
     "text": [
      "Epoch=4/5:  59%|█████▉    | 10/17 [00:53<00:38,  5.48s/it, acc=0.781, loss=0.527]"
     ]
    },
    {
     "name": "stdout",
     "output_type": "stream",
     "text": [
      "Got 25 / 32 with accuracy 78.12\n"
     ]
    },
    {
     "name": "stderr",
     "output_type": "stream",
     "text": [
      "Epoch=4/5:  65%|██████▍   | 11/17 [00:58<00:32,  5.45s/it, acc=0.781, loss=0.536]"
     ]
    },
    {
     "name": "stdout",
     "output_type": "stream",
     "text": [
      "Got 25 / 32 with accuracy 78.12\n"
     ]
    },
    {
     "name": "stderr",
     "output_type": "stream",
     "text": [
      "Epoch=4/5:  71%|███████   | 12/17 [01:04<00:27,  5.48s/it, acc=0.719, loss=0.61] "
     ]
    },
    {
     "name": "stdout",
     "output_type": "stream",
     "text": [
      "Got 23 / 32 with accuracy 71.88\n"
     ]
    },
    {
     "name": "stderr",
     "output_type": "stream",
     "text": [
      "Epoch=4/5:  76%|███████▋  | 13/17 [01:10<00:22,  5.55s/it, acc=0.75, loss=0.565]"
     ]
    },
    {
     "name": "stdout",
     "output_type": "stream",
     "text": [
      "Got 24 / 32 with accuracy 75.00\n"
     ]
    },
    {
     "name": "stderr",
     "output_type": "stream",
     "text": [
      "Epoch=4/5:  82%|████████▏ | 14/17 [01:15<00:16,  5.57s/it, acc=0.688, loss=0.635]"
     ]
    },
    {
     "name": "stdout",
     "output_type": "stream",
     "text": [
      "Got 22 / 32 with accuracy 68.75\n"
     ]
    },
    {
     "name": "stderr",
     "output_type": "stream",
     "text": [
      "Epoch=4/5:  88%|████████▊ | 15/17 [01:21<00:11,  5.57s/it, acc=0.812, loss=0.488]"
     ]
    },
    {
     "name": "stdout",
     "output_type": "stream",
     "text": [
      "Got 26 / 32 with accuracy 81.25\n"
     ]
    },
    {
     "name": "stderr",
     "output_type": "stream",
     "text": [
      "Epoch=4/5:  94%|█████████▍| 16/17 [01:27<00:05,  5.66s/it, acc=0.781, loss=0.525]"
     ]
    },
    {
     "name": "stdout",
     "output_type": "stream",
     "text": [
      "Got 25 / 32 with accuracy 78.12\n"
     ]
    },
    {
     "name": "stderr",
     "output_type": "stream",
     "text": [
      "                                                                                 "
     ]
    },
    {
     "name": "stdout",
     "output_type": "stream",
     "text": [
      "Got 7 / 9 with accuracy 77.78\n"
     ]
    },
    {
     "name": "stderr",
     "output_type": "stream",
     "text": [
      "\r"
     ]
    }
   ],
   "source": [
    "model=finetune(5, dataloader, model, loss_fn, optimizer)"
   ]
  },
  {
   "cell_type": "code",
   "execution_count": 43,
   "metadata": {},
   "outputs": [
    {
     "name": "stdout",
     "output_type": "stream",
     "text": [
      "{'input_ids': [101, 2017, 2298, 2204, 2651, 1010, 2054, 2079, 2017, 2228, 2055, 2008, 1029, 102], 'token_type_ids': [0, 0, 0, 0, 0, 0, 0, 0, 0, 0, 0, 0, 0, 0], 'attention_mask': [1, 1, 1, 1, 1, 1, 1, 1, 1, 1, 1, 1, 1, 1]}\n",
      "hello\n"
     ]
    },
    {
     "ename": "TypeError",
     "evalue": "'input_ids' is an invalid keyword argument for print()",
     "output_type": "error",
     "traceback": [
      "\u001b[1;31m---------------------------------------------------------------------------\u001b[0m",
      "\u001b[1;31mTypeError\u001b[0m                                 Traceback (most recent call last)",
      "Cell \u001b[1;32mIn [43], line 13\u001b[0m\n\u001b[0;32m     11\u001b[0m \u001b[38;5;28mprint\u001b[39m(encoding)\n\u001b[0;32m     12\u001b[0m \u001b[38;5;28mprint\u001b[39m(\u001b[38;5;124m'\u001b[39m\u001b[38;5;124mhello\u001b[39m\u001b[38;5;124m'\u001b[39m)\n\u001b[1;32m---> 13\u001b[0m \u001b[38;5;28mprint\u001b[39m(\u001b[38;5;241m*\u001b[39m\u001b[38;5;241m*\u001b[39mencoding)\n\u001b[0;32m     14\u001b[0m \u001b[38;5;66;03m#outputs = model(encoding)\u001b[39;00m\n\u001b[0;32m     16\u001b[0m outputs \u001b[38;5;241m=\u001b[39m model(\u001b[38;5;241m*\u001b[39m\u001b[38;5;241m*\u001b[39mencoding)\n",
      "\u001b[1;31mTypeError\u001b[0m: 'input_ids' is an invalid keyword argument for print()"
     ]
    }
   ],
   "source": [
    "\n",
    "#https://discuss.huggingface.co/t/how-to-test-my-text-classification-model-after-training-it/6689  IF IT CAN HELP..\n",
    "model.eval()\n",
    "#torch.no_grad()\n",
    "\n",
    "sentence = 'ah yes, of the course the summer rain pours when im on foot.' \n",
    "# encode sentence (i.e. create input_ids, attention_mask)\n",
    "encoding = tokenizer(sentence)\n",
    "# make sure the keys of the \"encoding\" dict are on the same device as the model\n",
    "#encoding = {k: v.to(args.device) for k, v in encoding.items()} #WHAT WAS THE PURPOSE OF THAT ?\n",
    "# forward pass through the model\n",
    "with torch.no_grad():\n",
    "    print(encoding)\n",
    "    print('hello')\n",
    "    print(**encoding)\n",
    "    #outputs = model(encoding)\n",
    "\n",
    "    outputs = model(**encoding)\n",
    "\n",
    "\n",
    "logits = outputs.logits \n",
    "print(\"Predicted class index:\", logits.argmax(-1))\n",
    "\n",
    "\n"
   ]
  },
  {
   "cell_type": "code",
   "execution_count": null,
   "metadata": {},
   "outputs": [],
   "source": []
  }
 ],
 "metadata": {
  "kernelspec": {
   "display_name": "Python 3",
   "language": "python",
   "name": "python3"
  },
  "language_info": {
   "codemirror_mode": {
    "name": "ipython",
    "version": 3
   },
   "file_extension": ".py",
   "mimetype": "text/x-python",
   "name": "python",
   "nbconvert_exporter": "python",
   "pygments_lexer": "ipython3",
   "version": "3.10.7"
  }
 },
 "nbformat": 4,
 "nbformat_minor": 2
}
