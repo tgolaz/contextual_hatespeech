{
  "metadata": {
    "kernelspec": {
      "display_name": "Python 3",
      "name": "python3"
    },
    "language_info": {
      "name": "python",
      "version": "3.10.13",
      "mimetype": "text/x-python",
      "codemirror_mode": {
        "name": "ipython",
        "version": 3
      },
      "pygments_lexer": "ipython3",
      "nbconvert_exporter": "python",
      "file_extension": ".py"
    },
    "kaggle": {
      "accelerator": "gpu",
      "dataSources": [
        {
          "sourceId": 36545,
          "sourceType": "datasetVersion",
          "datasetId": 1309
        }
      ],
      "dockerImageVersionId": 30699,
      "isInternetEnabled": true,
      "language": "python",
      "sourceType": "notebook",
      "isGpuEnabled": true
    },
    "colab": {
      "provenance": [],
      "machine_shape": "hm",
      "gpuType": "L4"
    },
    "accelerator": "GPU"
  },
  "nbformat_minor": 0,
  "nbformat": 4,
  "cells": [
    {
      "cell_type": "code",
      "source": [
        "import pandas as pd\n",
        "import numpy as np\n",
        "import transformers\n",
        "import torch\n",
        "import torch.nn as nn\n",
        "from torch.utils.data import Dataset\n",
        "from torch.utils.data import DataLoader\n",
        "import torch.optim as optim\n",
        "import torch.nn.functional as F\n",
        "from torchsummary import summary\n",
        "from sklearn.model_selection import train_test_split"
      ],
      "metadata": {
        "execution": {
          "iopub.status.busy": "2024-05-18T18:22:48.208674Z",
          "iopub.execute_input": "2024-05-18T18:22:48.209024Z",
          "iopub.status.idle": "2024-05-18T18:22:48.768979Z",
          "shell.execute_reply.started": "2024-05-18T18:22:48.208995Z",
          "shell.execute_reply": "2024-05-18T18:22:48.767990Z"
        },
        "trusted": true,
        "id": "XDurEthVpekQ"
      },
      "execution_count": 2,
      "outputs": []
    },
    {
      "cell_type": "code",
      "source": [
        "class BERT_ExtraLayer(nn.Module):\n",
        "    def __init__(self, model, num_labels=1):\n",
        "        super(BERT_ExtraLayer, self).__init__()\n",
        "\n",
        "        #Freezing the initial weights of the pre-trained model by setting requires_grad=False\n",
        "        self.bert_model = model\n",
        "        self.dropout = nn.Dropout(0.2)\n",
        "        self.l1 = nn.Linear(768, 1024)\n",
        "        self.out = nn.Linear(1024, 2)\n",
        "\n",
        "    def forward(self,input_ids,mask,token_type_ids):\n",
        "        out1 = self.bert_model(input_ids=input_ids, attention_mask=mask, token_type_ids=token_type_ids)\n",
        "        out1 = out1.pooler_output\n",
        "        out1 = self.dropout(out1)\n",
        "        out2 = self.dropout(self.l1(out1))\n",
        "        output = self.dropout(self.out(out2))\n",
        "\n",
        "        return output"
      ],
      "metadata": {
        "id": "cR7YXDZpsfTs"
      },
      "execution_count": 80,
      "outputs": []
    },
    {
      "cell_type": "code",
      "source": [
        "class BERT_Dataset(Dataset):\n",
        "    def __init__(self, texts, labels, tokenizer, max_len=512):\n",
        "        self.texts = texts\n",
        "        self.labels = labels\n",
        "        self.tokenizer = tokenizer\n",
        "        self.max_len = max_len\n",
        "\n",
        "    def __len__(self):\n",
        "        return len(self.texts)\n",
        "\n",
        "    def __getitem__(self, idx):\n",
        "        text = self.texts.iloc[idx]\n",
        "        inputs = self.tokenizer.encode_plus(\n",
        "            text, add_special_tokens=True, max_length=self.max_len,\n",
        "            padding='max_length', truncation=True, return_attention_mask=True)\n",
        "\n",
        "        return {'input_ids': torch.tensor(inputs['input_ids'], dtype=torch.long),\n",
        "                'attention_mask': torch.tensor(inputs['attention_mask'], dtype=torch.long),\n",
        "                'token_type_ids': torch.tensor(inputs['token_type_ids'], dtype=torch.long),\n",
        "                'label': torch.tensor(self.labels.iloc[idx], dtype=torch.long)}"
      ],
      "metadata": {
        "id": "vBwcPWPStNrK"
      },
      "execution_count": 81,
      "outputs": []
    },
    {
      "cell_type": "code",
      "source": [
        "def load_sarcasm_data(data_path, sub=True, n=10000, ratio=0.5):\n",
        "    '''\n",
        "    This function serves to load the sarcastic data from the dataset \"Sarcasm on Reddit\"\n",
        "    available on: https://arxiv.org/abs/1704.05579.\n",
        "\n",
        "    data_path: path to the file\n",
        "\n",
        "    sub: Whether you want to use the full dataset (False) or only a subset (True)\n",
        "\n",
        "    n: number of comment you want to consider\n",
        "\n",
        "    ratio: ratio of sarcastic comment\n",
        "\n",
        "    In the end we decided to select a subset of the original dataset with 50000 data\n",
        "    balanced between sarcastic and non sarcastic. So the parameter 'sub' must be false.\n",
        "    '''\n",
        "\n",
        "    print(\"Data loading...\")\n",
        "\n",
        "    df = pd.read_csv(data_path)[['comment', 'parent_comment', 'label']]\n",
        "\n",
        "    #Data processing to ensure compatibility with the model\n",
        "    df['comment'] = df['comment'].astype(str)\n",
        "    df['parent_comment'] = df['parent_comment'].astype(str)\n",
        "    df['label'] = df['label'].astype(int)\n",
        "    df = df[df['label'].isin([0, 1])]\n",
        "    df.dropna(inplace=True)\n",
        "\n",
        "    #Combining the the parent_comment and the main comment using the [SEP] separator\n",
        "    df['combined'] = df['parent_comment'] + \" [SEP] \" + df['comment']\n",
        "\n",
        "    #Taking a random subset of the data\n",
        "    if sub:\n",
        "        label_0 = int((1-ratio)*n)\n",
        "        label_1 = n - label_0\n",
        "        df_label_0 = df[df['label'] == 0].head(label_0)\n",
        "        df_label_1 = df[df['label'] == 1].head(label_1)\n",
        "        df = pd.concat([df_label_0, df_label_1], ignore_index=True)\n",
        "        df = df.sample(frac=1, random_state=42).reset_index(drop=True)\n",
        "\n",
        "    print(\"Data loaded succesfully!\")\n",
        "\n",
        "    return df"
      ],
      "metadata": {
        "id": "2Hs_HRe7uJom"
      },
      "execution_count": 82,
      "outputs": []
    },
    {
      "cell_type": "code",
      "source": [
        "data_path = 'cleaned_reddit.csv'\n",
        "data = load_sarcasm_data('cleaned_reddit.csv')"
      ],
      "metadata": {
        "colab": {
          "base_uri": "https://localhost:8080/"
        },
        "id": "2WN3M20Zws1V",
        "outputId": "8e4adabf-929b-42c6-bf8a-3f985948dca8"
      },
      "execution_count": 83,
      "outputs": [
        {
          "output_type": "stream",
          "name": "stdout",
          "text": [
            "Data loading...\n",
            "Data loaded succesfully!\n"
          ]
        }
      ]
    },
    {
      "cell_type": "code",
      "source": [
        "train_texts, val_texts, train_labels, val_labels = train_test_split(\n",
        "    data['combined'], data['label'], test_size=0.2, random_state=42)"
      ],
      "metadata": {
        "execution": {
          "iopub.status.busy": "2024-05-18T18:22:57.594152Z",
          "iopub.execute_input": "2024-05-18T18:22:57.594438Z",
          "iopub.status.idle": "2024-05-18T18:22:57.600909Z",
          "shell.execute_reply.started": "2024-05-18T18:22:57.594413Z",
          "shell.execute_reply": "2024-05-18T18:22:57.599843Z"
        },
        "trusted": true,
        "id": "7tZmMC9WpekW"
      },
      "execution_count": 84,
      "outputs": []
    },
    {
      "cell_type": "code",
      "source": [
        "#Loading the BERT Tokenizer\n",
        "tokenizer = transformers.BertTokenizer.from_pretrained('bert-base-uncased')"
      ],
      "metadata": {
        "execution": {
          "iopub.status.busy": "2024-05-18T18:22:57.602061Z",
          "iopub.execute_input": "2024-05-18T18:22:57.602351Z",
          "iopub.status.idle": "2024-05-18T18:22:59.081813Z",
          "shell.execute_reply.started": "2024-05-18T18:22:57.602317Z",
          "shell.execute_reply": "2024-05-18T18:22:59.081043Z"
        },
        "trusted": true,
        "id": "PS6aczoqpekW"
      },
      "execution_count": 85,
      "outputs": []
    },
    {
      "cell_type": "code",
      "source": [
        "train_dataset = BERT_Dataset(train_texts, train_labels, tokenizer)\n",
        "val_dataset = BERT_Dataset(val_texts, val_labels, tokenizer)\n",
        "\n",
        "#Loading BERT pretrained model\n",
        "bert_model = transformers.BertModel.from_pretrained('bert-base-uncased')\n",
        "\n",
        "#Creating an instance of our model with an extra layer\n",
        "model = BERT_ExtraLayer(bert_model)"
      ],
      "metadata": {
        "execution": {
          "iopub.status.busy": "2024-05-18T18:23:14.264485Z",
          "iopub.execute_input": "2024-05-18T18:23:14.264853Z",
          "iopub.status.idle": "2024-05-18T18:23:16.438162Z",
          "shell.execute_reply.started": "2024-05-18T18:23:14.264823Z",
          "shell.execute_reply": "2024-05-18T18:23:16.437348Z"
        },
        "trusted": true,
        "id": "C-_jYhWDpekY"
      },
      "execution_count": 86,
      "outputs": []
    },
    {
      "cell_type": "code",
      "source": [
        "#Initializing loss function\n",
        "loss_fn = nn.BCEWithLogitsLoss()\n",
        "\n",
        "#Initializing optimizer\n",
        "optimizer = optim.AdamW(model.parameters(), lr=5e-5)\n",
        "\n",
        "#Creating the DataLoader\n",
        "train_loader = DataLoader(train_dataset, batch_size=64, shuffle=True)\n",
        "val_loader = DataLoader(val_dataset, batch_size=64, shuffle=False)"
      ],
      "metadata": {
        "id": "ILbFcDI1xzRq"
      },
      "execution_count": 87,
      "outputs": []
    },
    {
      "cell_type": "code",
      "source": [
        "device = torch.device('cuda' if torch.cuda.is_available() else 'cpu')\n",
        "model.to(device)"
      ],
      "metadata": {
        "execution": {
          "iopub.status.busy": "2024-05-18T18:26:33.654108Z",
          "iopub.execute_input": "2024-05-18T18:26:33.654916Z",
          "iopub.status.idle": "2024-05-18T18:26:33.670826Z",
          "shell.execute_reply.started": "2024-05-18T18:26:33.654885Z",
          "shell.execute_reply": "2024-05-18T18:26:33.669949Z"
        },
        "trusted": true,
        "colab": {
          "base_uri": "https://localhost:8080/"
        },
        "id": "pFR2dE8JpekY",
        "outputId": "efdb54cd-f1d8-4e2e-92d5-cbdb07d6c11a"
      },
      "execution_count": 88,
      "outputs": [
        {
          "output_type": "execute_result",
          "data": {
            "text/plain": [
              "BERT_ExtraLayer(\n",
              "  (bert_model): BertModel(\n",
              "    (embeddings): BertEmbeddings(\n",
              "      (word_embeddings): Embedding(30522, 768, padding_idx=0)\n",
              "      (position_embeddings): Embedding(512, 768)\n",
              "      (token_type_embeddings): Embedding(2, 768)\n",
              "      (LayerNorm): LayerNorm((768,), eps=1e-12, elementwise_affine=True)\n",
              "      (dropout): Dropout(p=0.1, inplace=False)\n",
              "    )\n",
              "    (encoder): BertEncoder(\n",
              "      (layer): ModuleList(\n",
              "        (0-11): 12 x BertLayer(\n",
              "          (attention): BertAttention(\n",
              "            (self): BertSdpaSelfAttention(\n",
              "              (query): Linear(in_features=768, out_features=768, bias=True)\n",
              "              (key): Linear(in_features=768, out_features=768, bias=True)\n",
              "              (value): Linear(in_features=768, out_features=768, bias=True)\n",
              "              (dropout): Dropout(p=0.1, inplace=False)\n",
              "            )\n",
              "            (output): BertSelfOutput(\n",
              "              (dense): Linear(in_features=768, out_features=768, bias=True)\n",
              "              (LayerNorm): LayerNorm((768,), eps=1e-12, elementwise_affine=True)\n",
              "              (dropout): Dropout(p=0.1, inplace=False)\n",
              "            )\n",
              "          )\n",
              "          (intermediate): BertIntermediate(\n",
              "            (dense): Linear(in_features=768, out_features=3072, bias=True)\n",
              "            (intermediate_act_fn): GELUActivation()\n",
              "          )\n",
              "          (output): BertOutput(\n",
              "            (dense): Linear(in_features=3072, out_features=768, bias=True)\n",
              "            (LayerNorm): LayerNorm((768,), eps=1e-12, elementwise_affine=True)\n",
              "            (dropout): Dropout(p=0.1, inplace=False)\n",
              "          )\n",
              "        )\n",
              "      )\n",
              "    )\n",
              "    (pooler): BertPooler(\n",
              "      (dense): Linear(in_features=768, out_features=768, bias=True)\n",
              "      (activation): Tanh()\n",
              "    )\n",
              "  )\n",
              "  (dropout): Dropout(p=0.2, inplace=False)\n",
              "  (l1): Linear(in_features=768, out_features=1024, bias=True)\n",
              "  (out): Linear(in_features=1024, out_features=2, bias=True)\n",
              ")"
            ]
          },
          "metadata": {},
          "execution_count": 88
        }
      ]
    },
    {
      "cell_type": "code",
      "source": [
        "def train(epochs, train_loader, val_loader, model, loss_fn, optimizer):\n",
        "\n",
        "  print(\"Starting training process...\")\n",
        "\n",
        "  #Training\n",
        "  for epoch in range(epochs):\n",
        "    model.train()\n",
        "    for batch in train_loader:\n",
        "      batch = {k: v.to(device) for k,v in batch.items()}\n",
        "      #print(batch)\n",
        "\n",
        "      optimizer.zero_grad()\n",
        "\n",
        "      output = model(batch['input_ids'], batch['attention_mask'], batch['token_type_ids'])\n",
        "      target = batch['label'].float()\n",
        "      loss = loss_fn(output.squeeze(), target)\n",
        "      loss.backward()\n",
        "\n",
        "      optimizer.step()\n",
        "\n",
        "    print(f'Epoch {epoch+1}, Loss: {loss.item()}')\n",
        "\n",
        "    #Evaluation\n",
        "    model.eval()\n",
        "    total_eval_accuracy = 0\n",
        "    for batch in val_loader:\n",
        "      batch = {k: v.to(device) for k, v in batch.items()}\n",
        "\n",
        "      with torch.no_grad():\n",
        "        output = model(batch['input_ids'], batch['attention_mask'], batch['token_type_ids'])\n",
        "\n",
        "        predictions = torch.sigmoid(output) >= 0.5\n",
        "        total_eval_accuracy += (predictions == batch['label']).float().mean().item()\n",
        "\n",
        "    print(f'Validation Accuracy: {total_eval_accuracy / len(val_loader)}')\n"
      ],
      "metadata": {
        "id": "3Dvsz77X17PB"
      },
      "execution_count": 89,
      "outputs": []
    },
    {
      "cell_type": "code",
      "source": [
        "def train_model(model, train_loader, val_loader, optimizer, loss_fn, epochs=5):\n",
        "    for epoch in range(epochs):\n",
        "        model.train()\n",
        "        if epoch == 3:\n",
        "          for param in model.bert_model.parameters():\n",
        "            param.requires_grad = False\n",
        "\n",
        "        total_loss = 0\n",
        "        for batch in train_loader:\n",
        "            inputs, masks, token_type_ids, labels = batch['input_ids'].to(device), batch['attention_mask'].to(device), batch['token_type_ids'].to(device), batch['label'].to(device)\n",
        "            optimizer.zero_grad()\n",
        "            outputs = model(inputs, masks, token_type_ids)\n",
        "            loss = loss_fn(outputs, labels)\n",
        "            loss.backward()\n",
        "            optimizer.step()\n",
        "            total_loss += loss.item()\n",
        "\n",
        "        print(f\"Epoch {epoch + 1}/{epochs}, Loss: {total_loss / len(train_loader)}\")\n",
        "\n",
        "        # Validation phase\n",
        "        model.eval()\n",
        "        total_eval_accuracy = 0\n",
        "        total_eval_loss = 0\n",
        "        for batch in val_loader:\n",
        "            inputs, masks, token_type_ids, labels = batch['input_ids'].to(device), batch['attention_mask'].to(device), batch['token_type_ids'].to(device), batch['label'].to(device)\n",
        "            with torch.no_grad():\n",
        "                outputs = model(inputs, masks, token_type_ids)\n",
        "                loss = loss_fn(outputs, labels)\n",
        "                total_eval_loss += loss.item()\n",
        "                preds = torch.argmax(outputs, dim=1)\n",
        "                total_eval_accuracy += (preds == labels).sum().item()\n",
        "\n",
        "        print(f'Validation Loss: {total_eval_loss / len(val_loader)}, ' +\n",
        "              f'Accuracy: {total_eval_accuracy / len(val_loader.dataset)}')\n"
      ],
      "metadata": {
        "id": "iDWK5LLlolDY"
      },
      "execution_count": 92,
      "outputs": []
    },
    {
      "cell_type": "code",
      "source": [
        "loss = nn.CrossEntropyLoss()\n",
        "train_model(model, train_loader, val_loader, optimizer, loss, epochs=10)"
      ],
      "metadata": {
        "colab": {
          "base_uri": "https://localhost:8080/",
          "height": 593
        },
        "id": "KYLQ-727ou0x",
        "outputId": "ec0a44b0-6a62-4b14-aab2-6ab91217d928"
      },
      "execution_count": 93,
      "outputs": [
        {
          "output_type": "stream",
          "name": "stdout",
          "text": [
            "Epoch 1/10, Loss: 0.676859815299511\n",
            "Validation Loss: 0.6730937595367432, Accuracy: 0.573\n",
            "Epoch 2/10, Loss: 0.6800360552072525\n",
            "Validation Loss: 0.6639993591308594, Accuracy: 0.596\n",
            "Epoch 3/10, Loss: 0.6785348106622696\n",
            "Validation Loss: 0.6625191617012024, Accuracy: 0.602\n",
            "Epoch 4/10, Loss: 0.6780699687004089\n",
            "Validation Loss: 0.6609219589233398, Accuracy: 0.6155\n",
            "Epoch 5/10, Loss: 0.6757287653684616\n",
            "Validation Loss: 0.662124285697937, Accuracy: 0.603\n",
            "Epoch 6/10, Loss: 0.6772584973573684\n",
            "Validation Loss: 0.6893376350402832, Accuracy: 0.545\n",
            "Epoch 7/10, Loss: 0.6748990724086762\n",
            "Validation Loss: 0.6603816494941711, Accuracy: 0.613\n",
            "Epoch 8/10, Loss: 0.6730728220939636\n",
            "Validation Loss: 0.6608927416801452, Accuracy: 0.601\n",
            "Epoch 9/10, Loss: 0.6746509392261505\n",
            "Validation Loss: 0.6596677360534668, Accuracy: 0.611\n"
          ]
        },
        {
          "output_type": "error",
          "ename": "KeyboardInterrupt",
          "evalue": "",
          "traceback": [
            "\u001b[0;31m---------------------------------------------------------------------------\u001b[0m",
            "\u001b[0;31mKeyboardInterrupt\u001b[0m                         Traceback (most recent call last)",
            "\u001b[0;32m<ipython-input-93-540dfea1e526>\u001b[0m in \u001b[0;36m<cell line: 2>\u001b[0;34m()\u001b[0m\n\u001b[1;32m      1\u001b[0m \u001b[0mloss\u001b[0m \u001b[0;34m=\u001b[0m \u001b[0mnn\u001b[0m\u001b[0;34m.\u001b[0m\u001b[0mCrossEntropyLoss\u001b[0m\u001b[0;34m(\u001b[0m\u001b[0;34m)\u001b[0m\u001b[0;34m\u001b[0m\u001b[0;34m\u001b[0m\u001b[0m\n\u001b[0;32m----> 2\u001b[0;31m \u001b[0mtrain_model\u001b[0m\u001b[0;34m(\u001b[0m\u001b[0mmodel\u001b[0m\u001b[0;34m,\u001b[0m \u001b[0mtrain_loader\u001b[0m\u001b[0;34m,\u001b[0m \u001b[0mval_loader\u001b[0m\u001b[0;34m,\u001b[0m \u001b[0moptimizer\u001b[0m\u001b[0;34m,\u001b[0m \u001b[0mloss\u001b[0m\u001b[0;34m,\u001b[0m \u001b[0mepochs\u001b[0m\u001b[0;34m=\u001b[0m\u001b[0;36m10\u001b[0m\u001b[0;34m)\u001b[0m\u001b[0;34m\u001b[0m\u001b[0;34m\u001b[0m\u001b[0m\n\u001b[0m",
            "\u001b[0;32m<ipython-input-92-96131291232c>\u001b[0m in \u001b[0;36mtrain_model\u001b[0;34m(model, train_loader, val_loader, optimizer, loss_fn, epochs)\u001b[0m\n\u001b[1;32m     10\u001b[0m             \u001b[0mloss\u001b[0m\u001b[0;34m.\u001b[0m\u001b[0mbackward\u001b[0m\u001b[0;34m(\u001b[0m\u001b[0;34m)\u001b[0m\u001b[0;34m\u001b[0m\u001b[0;34m\u001b[0m\u001b[0m\n\u001b[1;32m     11\u001b[0m             \u001b[0moptimizer\u001b[0m\u001b[0;34m.\u001b[0m\u001b[0mstep\u001b[0m\u001b[0;34m(\u001b[0m\u001b[0;34m)\u001b[0m\u001b[0;34m\u001b[0m\u001b[0;34m\u001b[0m\u001b[0m\n\u001b[0;32m---> 12\u001b[0;31m             \u001b[0mtotal_loss\u001b[0m \u001b[0;34m+=\u001b[0m \u001b[0mloss\u001b[0m\u001b[0;34m.\u001b[0m\u001b[0mitem\u001b[0m\u001b[0;34m(\u001b[0m\u001b[0;34m)\u001b[0m\u001b[0;34m\u001b[0m\u001b[0;34m\u001b[0m\u001b[0m\n\u001b[0m\u001b[1;32m     13\u001b[0m \u001b[0;34m\u001b[0m\u001b[0m\n\u001b[1;32m     14\u001b[0m         \u001b[0mprint\u001b[0m\u001b[0;34m(\u001b[0m\u001b[0;34mf\"Epoch {epoch + 1}/{epochs}, Loss: {total_loss / len(train_loader)}\"\u001b[0m\u001b[0;34m)\u001b[0m\u001b[0;34m\u001b[0m\u001b[0;34m\u001b[0m\u001b[0m\n",
            "\u001b[0;31mKeyboardInterrupt\u001b[0m: "
          ]
        }
      ]
    },
    {
      "cell_type": "code",
      "source": [
        "import os\n",
        "save_directory = 'checkpoint/model1'\n",
        "os.makedirs(save_directory, exist_ok=True)\n",
        "model.save_pretrained(save_directory)\n",
        "tokenizer.save_pretrained(save_directory)"
      ],
      "metadata": {
        "colab": {
          "base_uri": "https://localhost:8080/",
          "height": 315
        },
        "id": "TXs2yy_I0s_V",
        "outputId": "dce212cb-a386-463b-8774-71fe23f8373b"
      },
      "execution_count": 297,
      "outputs": [
        {
          "output_type": "error",
          "ename": "AttributeError",
          "evalue": "'BERT_ExtraLayer' object has no attribute 'save_pretrained'",
          "traceback": [
            "\u001b[0;31m---------------------------------------------------------------------------\u001b[0m",
            "\u001b[0;31mAttributeError\u001b[0m                            Traceback (most recent call last)",
            "\u001b[0;32m<ipython-input-297-cd2cc5b4c774>\u001b[0m in \u001b[0;36m<cell line: 4>\u001b[0;34m()\u001b[0m\n\u001b[1;32m      2\u001b[0m \u001b[0msave_directory\u001b[0m \u001b[0;34m=\u001b[0m \u001b[0;34m'checkpoint/model1'\u001b[0m\u001b[0;34m\u001b[0m\u001b[0;34m\u001b[0m\u001b[0m\n\u001b[1;32m      3\u001b[0m \u001b[0mos\u001b[0m\u001b[0;34m.\u001b[0m\u001b[0mmakedirs\u001b[0m\u001b[0;34m(\u001b[0m\u001b[0msave_directory\u001b[0m\u001b[0;34m,\u001b[0m \u001b[0mexist_ok\u001b[0m\u001b[0;34m=\u001b[0m\u001b[0;32mTrue\u001b[0m\u001b[0;34m)\u001b[0m\u001b[0;34m\u001b[0m\u001b[0;34m\u001b[0m\u001b[0m\n\u001b[0;32m----> 4\u001b[0;31m \u001b[0mmodel\u001b[0m\u001b[0;34m.\u001b[0m\u001b[0msave_pretrained\u001b[0m\u001b[0;34m(\u001b[0m\u001b[0msave_directory\u001b[0m\u001b[0;34m)\u001b[0m\u001b[0;34m\u001b[0m\u001b[0;34m\u001b[0m\u001b[0m\n\u001b[0m\u001b[1;32m      5\u001b[0m \u001b[0mtokenizer\u001b[0m\u001b[0;34m.\u001b[0m\u001b[0msave_pretrained\u001b[0m\u001b[0;34m(\u001b[0m\u001b[0msave_directory\u001b[0m\u001b[0;34m)\u001b[0m\u001b[0;34m\u001b[0m\u001b[0;34m\u001b[0m\u001b[0m\n",
            "\u001b[0;32m/usr/local/lib/python3.10/dist-packages/torch/nn/modules/module.py\u001b[0m in \u001b[0;36m__getattr__\u001b[0;34m(self, name)\u001b[0m\n\u001b[1;32m   1707\u001b[0m             \u001b[0;32mif\u001b[0m \u001b[0mname\u001b[0m \u001b[0;32min\u001b[0m \u001b[0mmodules\u001b[0m\u001b[0;34m:\u001b[0m\u001b[0;34m\u001b[0m\u001b[0;34m\u001b[0m\u001b[0m\n\u001b[1;32m   1708\u001b[0m                 \u001b[0;32mreturn\u001b[0m \u001b[0mmodules\u001b[0m\u001b[0;34m[\u001b[0m\u001b[0mname\u001b[0m\u001b[0;34m]\u001b[0m\u001b[0;34m\u001b[0m\u001b[0;34m\u001b[0m\u001b[0m\n\u001b[0;32m-> 1709\u001b[0;31m         \u001b[0;32mraise\u001b[0m \u001b[0mAttributeError\u001b[0m\u001b[0;34m(\u001b[0m\u001b[0;34mf\"'{type(self).__name__}' object has no attribute '{name}'\"\u001b[0m\u001b[0;34m)\u001b[0m\u001b[0;34m\u001b[0m\u001b[0;34m\u001b[0m\u001b[0m\n\u001b[0m\u001b[1;32m   1710\u001b[0m \u001b[0;34m\u001b[0m\u001b[0m\n\u001b[1;32m   1711\u001b[0m     \u001b[0;32mdef\u001b[0m \u001b[0m__setattr__\u001b[0m\u001b[0;34m(\u001b[0m\u001b[0mself\u001b[0m\u001b[0;34m,\u001b[0m \u001b[0mname\u001b[0m\u001b[0;34m:\u001b[0m \u001b[0mstr\u001b[0m\u001b[0;34m,\u001b[0m \u001b[0mvalue\u001b[0m\u001b[0;34m:\u001b[0m \u001b[0mUnion\u001b[0m\u001b[0;34m[\u001b[0m\u001b[0mTensor\u001b[0m\u001b[0;34m,\u001b[0m \u001b[0;34m'Module'\u001b[0m\u001b[0;34m]\u001b[0m\u001b[0;34m)\u001b[0m \u001b[0;34m->\u001b[0m \u001b[0;32mNone\u001b[0m\u001b[0;34m:\u001b[0m\u001b[0;34m\u001b[0m\u001b[0;34m\u001b[0m\u001b[0m\n",
            "\u001b[0;31mAttributeError\u001b[0m: 'BERT_ExtraLayer' object has no attribute 'save_pretrained'"
          ]
        }
      ]
    },
    {
      "cell_type": "code",
      "source": [
        "#Enter here the sentence you would like to try:\n",
        "sentence = (\"I really love Trump [SEP] You are intelligent, aren't you?\")\n",
        "encoded_dict = tokenizer.encode_plus(\n",
        "    sentence,\n",
        "    add_special_tokens=True,\n",
        "    max_length=512,\n",
        "    pad_to_max_length=True,\n",
        "    return_attention_mask=True,\n",
        "    return_tensors='pt',\n",
        ")\n",
        "\n",
        "input_ids = encoded_dict['input_ids'].to(device)\n",
        "attention_mask = encoded_dict['attention_mask'].to(device)\n",
        "\n",
        "#Get the prediction\n",
        "model.eval()\n",
        "with torch.no_grad():\n",
        "    outputs = model(input_ids, attention_mask=attention_mask)\n",
        "    logits = outputs.logits\n",
        "\n",
        "logits = logits.detach().cpu().numpy()\n",
        "\n",
        "#Get the result (0 or 1)\n",
        "import numpy as np\n",
        "prediction = np.argmax(logits, axis=1)[0]\n",
        "\n",
        "if prediction == 0:\n",
        "    print(\"The sentence is not sarcastic.\")\n",
        "else:\n",
        "    print(\"The sentence is sarcastic.\")"
      ],
      "metadata": {
        "execution": {
          "iopub.status.busy": "2024-05-18T18:25:11.310863Z",
          "iopub.status.idle": "2024-05-18T18:25:11.311215Z",
          "shell.execute_reply.started": "2024-05-18T18:25:11.311048Z",
          "shell.execute_reply": "2024-05-18T18:25:11.311062Z"
        },
        "trusted": true,
        "id": "mJb9EodopekZ"
      },
      "execution_count": null,
      "outputs": []
    },
    {
      "cell_type": "code",
      "source": [
        "from google.colab import drive\n",
        "drive.mount('/content/drive')"
      ],
      "metadata": {
        "colab": {
          "base_uri": "https://localhost:8080/"
        },
        "id": "fykkmrOG0y9v",
        "outputId": "687fa659-b679-4d4a-bf7e-a7090352da41"
      },
      "execution_count": null,
      "outputs": [
        {
          "output_type": "stream",
          "name": "stdout",
          "text": [
            "Mounted at /content/drive\n"
          ]
        }
      ]
    },
    {
      "cell_type": "code",
      "source": [
        "import os\n",
        "import shutil\n",
        "\n",
        "source_folder = '/content/checkpoint/'  # Default folder for Colab files\n",
        "destination_folder = '/content/drive/MyDrive/DL - EE-559'\n",
        "\n",
        "# Create destination folder if it doesn't exist\n",
        "if not os.path.exists(destination_folder):\n",
        "    os.makedirs(destination_folder)\n",
        "\n",
        "# Function to handle the copying of files and directories, excluding the 'drive' folder\n",
        "def copy_item(src, dst):\n",
        "    if os.path.basename(src) == 'drive':\n",
        "        # Skip the 'drive' folder to prevent recursion or unnecessary copying\n",
        "        return\n",
        "    if os.path.isdir(src):\n",
        "        # If the item is a directory, create a corresponding directory in the destination\n",
        "        if not os.path.exists(dst):\n",
        "            os.makedirs(dst)\n",
        "        # Recursively copy each item in the directory\n",
        "        for item in os.listdir(src):\n",
        "            copy_item(os.path.join(src, item), os.path.join(dst, item))\n",
        "    else:\n",
        "        # If the item is a file, copy it directly\n",
        "        shutil.copy(src, dst)\n",
        "\n",
        "# Copy each file or directory from source to destination, excluding the 'drive' folder\n",
        "for item in os.listdir(source_folder):\n",
        "    copy_item(os.path.join(source_folder, item), os.path.join(destination_folder, item))"
      ],
      "metadata": {
        "id": "ryeX4Qkx1K74"
      },
      "execution_count": null,
      "outputs": []
    }
  ]
}